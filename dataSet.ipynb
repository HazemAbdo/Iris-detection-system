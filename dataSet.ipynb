{
 "cells": [
  {
   "cell_type": "code",
   "execution_count": 32,
   "id": "6aaca114",
   "metadata": {},
   "outputs": [],
   "source": [
    "from PIL import Image\n",
    "import numpy as np\n",
    "import skimage.io as io  \n",
    "from os import listdir\n",
    "from os.path import isfile, join"
   ]
  },
  {
   "cell_type": "code",
   "execution_count": 33,
   "id": "549162d9",
   "metadata": {},
   "outputs": [],
   "source": [
    "def convertImgToSquare( imgPath):\n",
    "    img = Image.open('dataSet/'+ imgPath)\n",
    "    if img.size[0] == img.size[1]:\n",
    "        return 0;\n",
    "    sqrWidth = np.ceil(np.sqrt(img.size[0]*img.size[1])).astype(int)\n",
    "    im_resize = img.resize((sqrWidth, sqrWidth))\n",
    "    im_resize.save('dataSet/'+ imgPath)"
   ]
  },
  {
   "cell_type": "code",
   "execution_count": 34,
   "id": "66e9a122",
   "metadata": {},
   "outputs": [
    {
     "name": "stdout",
     "output_type": "stream",
     "text": [
      "ac475c125f8fe4e24171b4158bfcc47f.jpg\n",
      "aeval1 (1).bmp\n",
      "fional1.bmp\n",
      "hockl1.bmp\n",
      "kelvinl1.bmp\n",
      "lec_1.bmp\n",
      "liujwl1.bmp\n",
      "lokel1.bmp\n",
      "lowyfl1.bmp\n",
      "lpjl1.bmp\n",
      "mahskl1.bmp\n",
      "maranl1.bmp\n"
     ]
    }
   ],
   "source": [
    "# generate patterns for our data set and save them in uniquePatterns array\n",
    "Images = [i for i in listdir('dataSet') if isfile(join('dataSet', i))]\n",
    "uniquePatterns=[0]*len(Images)\n",
    "\n",
    "for i in range (0, len(Images)):\n",
    "    convertImgToSquare(Images[i])\n",
    "    print(Images[i])\n",
    "    # call all our algorthims \n",
    "    # set the unique patterns in the list \n",
    "    \n",
    "      "
   ]
  },
  {
   "cell_type": "code",
   "execution_count": 15,
   "id": "3cf79779",
   "metadata": {},
   "outputs": [],
   "source": [
    "# to compare two patterns using hammming distance with thershold 0.32\n",
    "# N number of bits in the pattern\n",
    "def isReconginzed (X, Y, N):\n",
    "    hammingDistance=0\n",
    "    for i in range (0,N):\n",
    "        hammingDistance+= X[i] ^ Y[i]\n",
    "    hammingDistance= hammingDistance / N\n",
    "    if (hammingDistance <= 0.32):\n",
    "           return true;\n",
    "    else:\n",
    "           return false;"
   ]
  },
  {
   "cell_type": "code",
   "execution_count": 16,
   "id": "409c5ee5",
   "metadata": {},
   "outputs": [
    {
     "ename": "NameError",
     "evalue": "name 'io' is not defined",
     "output_type": "error",
     "traceback": [
      "\u001b[1;31m---------------------------------------------------------------------------\u001b[0m",
      "\u001b[1;31mNameError\u001b[0m                                 Traceback (most recent call last)",
      "\u001b[1;32m<ipython-input-16-4f99a807105f>\u001b[0m in \u001b[0;36m<module>\u001b[1;34m\u001b[0m\n\u001b[0;32m      1\u001b[0m \u001b[1;31m# reconfintion:\u001b[0m\u001b[1;33m\u001b[0m\u001b[1;33m\u001b[0m\u001b[1;33m\u001b[0m\u001b[0m\n\u001b[0;32m      2\u001b[0m \u001b[1;31m# input Eye =>> apply alogrithms =>> input eye pattern\u001b[0m\u001b[1;33m\u001b[0m\u001b[1;33m\u001b[0m\u001b[1;33m\u001b[0m\u001b[0m\n\u001b[1;32m----> 3\u001b[1;33m \u001b[0mimg\u001b[0m \u001b[1;33m=\u001b[0m \u001b[0mio\u001b[0m\u001b[1;33m.\u001b[0m\u001b[0mimread\u001b[0m\u001b[1;33m(\u001b[0m\u001b[1;34m'inputs/??.jpg'\u001b[0m\u001b[1;33m)\u001b[0m\u001b[1;33m\u001b[0m\u001b[1;33m\u001b[0m\u001b[0m\n\u001b[0m\u001b[0;32m      4\u001b[0m \u001b[1;33m\u001b[0m\u001b[0m\n\u001b[0;32m      5\u001b[0m \u001b[1;31m# apply all algorthims on img to get inputEye_Pattern then compare it with all patterns alreday saved in data set\u001b[0m\u001b[1;33m\u001b[0m\u001b[1;33m\u001b[0m\u001b[1;33m\u001b[0m\u001b[0m\n",
      "\u001b[1;31mNameError\u001b[0m: name 'io' is not defined"
     ]
    }
   ],
   "source": [
    "# reconfintion:\n",
    "# input Eye =>> apply alogrithms =>> input eye pattern \n",
    "img = io.imread('inputs/ ... .jpg')\n",
    "\n",
    "# apply all algorthims on img to get inputEye_Pattern then compare it with all patterns alreday saved in data set\n",
    "\n",
    "for i in range (0, len(Images)):\n",
    "    if isReconginzed (inputEye_Pattern, uniquePatterns[i]):\n",
    "            # index can be as id with the user name to display it \n",
    "            print(i)\n",
    "            return \"exists, pass\"\n",
    "    else:\n",
    "            return \"doesn't exist, don't pass\"\n",
    "#--------------------------\n"
   ]
  },
  {
   "cell_type": "code",
   "execution_count": null,
   "id": "0835482b",
   "metadata": {},
   "outputs": [],
   "source": []
  }
 ],
 "metadata": {
  "kernelspec": {
   "display_name": "Python 3",
   "language": "python",
   "name": "python3"
  },
  "language_info": {
   "codemirror_mode": {
    "name": "ipython",
    "version": 3
   },
   "file_extension": ".py",
   "mimetype": "text/x-python",
   "name": "python",
   "nbconvert_exporter": "python",
   "pygments_lexer": "ipython3",
   "version": "3.8.8"
  }
 },
 "nbformat": 4,
 "nbformat_minor": 5
}
